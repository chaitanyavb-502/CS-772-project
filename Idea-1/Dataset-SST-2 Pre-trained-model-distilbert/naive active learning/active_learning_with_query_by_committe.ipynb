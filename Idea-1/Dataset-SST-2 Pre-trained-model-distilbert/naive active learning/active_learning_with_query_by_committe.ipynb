{
 "cells": [
  {
   "cell_type": "markdown",
   "metadata": {},
   "source": [
    "### Description:\n",
    "    This script implements Active Learning using the Query by Committee (QBC) strategy.\n",
    "    A committee of models is trained on different bootstrap samples of the labeled data.\n",
    "    For the unlabeled pool, we measure the committee's disagreement via vote entropy and select\n",
    "    the most uncertain samples for labeling. The model's performance on the validation set is\n",
    "    evaluated (using majority vote over the committee), and results are plotted over iterations."
   ]
  },
  {
   "cell_type": "code",
   "execution_count": 9,
   "metadata": {},
   "outputs": [],
   "source": [
    "import torch\n",
    "from transformers import AutoModelForSequenceClassification, AutoTokenizer, AdamW\n",
    "from datasets import load_dataset\n",
    "from torch.utils.data import DataLoader, Subset\n",
    "from tqdm.auto import tqdm\n",
    "import numpy as np\n",
    "import random\n",
    "import matplotlib.pyplot as plt\n",
    "from collections import Counter\n",
    "import math"
   ]
  },
  {
   "cell_type": "code",
   "execution_count": 10,
   "metadata": {},
   "outputs": [],
   "source": [
    "random.seed(42)\n",
    "np.random.seed(42)\n",
    "torch.manual_seed(42)\n",
    "if torch.cuda.is_available():\n",
    "    torch.cuda.manual_seed_all(42)"
   ]
  },
  {
   "cell_type": "code",
   "execution_count": 3,
   "metadata": {},
   "outputs": [],
   "source": [
    "model_name = \"distilbert-base-uncased\"\n",
    "num_labels = 2  \n",
    "\n",
    "def create_model():\n",
    "    model = AutoModelForSequenceClassification.from_pretrained(model_name, num_labels=num_labels)\n",
    "    return model\n",
    "\n",
    "tokenizer = AutoTokenizer.from_pretrained(model_name)\n",
    "\n",
    "device = torch.device(\"cuda\" if torch.cuda.is_available() else \"cpu\")"
   ]
  },
  {
   "cell_type": "code",
   "execution_count": 4,
   "metadata": {},
   "outputs": [],
   "source": [
    "train_dataset = load_dataset(\"glue\", \"sst2\", split=\"train\")\n",
    "val_dataset = load_dataset(\"glue\", \"sst2\", split=\"validation\")"
   ]
  },
  {
   "cell_type": "code",
   "execution_count": 5,
   "metadata": {},
   "outputs": [],
   "source": [
    "def collate_fn(batch):\n",
    "    texts = [item[\"sentence\"] for item in batch]\n",
    "    labels = [item[\"label\"] for item in batch]\n",
    "    tokenized_inputs = tokenizer(texts, padding=True, truncation=True, return_tensors=\"pt\")\n",
    "    tokenized_inputs[\"labels\"] = torch.tensor(labels)\n",
    "    return tokenized_inputs\n"
   ]
  },
  {
   "cell_type": "markdown",
   "metadata": {},
   "source": [
    "### Active Learning:"
   ]
  },
  {
   "cell_type": "code",
   "execution_count": 6,
   "metadata": {},
   "outputs": [],
   "source": [
    "initial_label_size = 50\n",
    "acquisition_size = 50\n",
    "max_iterations = 10\n",
    "committee_size = 3  # Number of models in the committee"
   ]
  },
  {
   "cell_type": "code",
   "execution_count": 7,
   "metadata": {},
   "outputs": [],
   "source": [
    "all_indices = list(range(len(train_dataset)))\n",
    "random.shuffle(all_indices)\n",
    "\n",
    "labeled_indices = all_indices[:initial_label_size]\n",
    "unlabeled_indices = all_indices[initial_label_size:]"
   ]
  },
  {
   "cell_type": "code",
   "execution_count": 8,
   "metadata": {},
   "outputs": [],
   "source": [
    "labeled_sizes = []\n",
    "val_accuracies = []"
   ]
  },
  {
   "cell_type": "markdown",
   "metadata": {},
   "source": [
    "#### Active Learning Loop:"
   ]
  },
  {
   "cell_type": "code",
   "execution_count": null,
   "metadata": {},
   "outputs": [
    {
     "name": "stdout",
     "output_type": "stream",
     "text": [
      "\n",
      "=== Active Learning Iteration 1 ===\n"
     ]
    },
    {
     "name": "stderr",
     "output_type": "stream",
     "text": [
      "Some weights of DistilBertForSequenceClassification were not initialized from the model checkpoint at distilbert-base-uncased and are newly initialized: ['classifier.bias', 'classifier.weight', 'pre_classifier.bias', 'pre_classifier.weight']\n",
      "You should probably TRAIN this model on a down-stream task to be able to use it for predictions and inference.\n",
      "c:\\python312\\Lib\\site-packages\\transformers\\optimization.py:591: FutureWarning: This implementation of AdamW is deprecated and will be removed in a future version. Use the PyTorch implementation torch.optim.AdamW instead, or set `no_deprecation_warning=True` to disable this warning\n",
      "  warnings.warn(\n",
      "Training Committee Member 1, Epoch 1: 100%|██████████| 4/4 [00:12<00:00,  3.21s/it]\n"
     ]
    },
    {
     "name": "stdout",
     "output_type": "stream",
     "text": [
      "Committee Member 1, Epoch 1 Loss: 0.6849\n"
     ]
    },
    {
     "name": "stderr",
     "output_type": "stream",
     "text": [
      "Training Committee Member 1, Epoch 2: 100%|██████████| 4/4 [00:13<00:00,  3.45s/it]\n"
     ]
    },
    {
     "name": "stdout",
     "output_type": "stream",
     "text": [
      "Committee Member 1, Epoch 2 Loss: 0.6147\n"
     ]
    },
    {
     "name": "stderr",
     "output_type": "stream",
     "text": [
      "Some weights of DistilBertForSequenceClassification were not initialized from the model checkpoint at distilbert-base-uncased and are newly initialized: ['classifier.bias', 'classifier.weight', 'pre_classifier.bias', 'pre_classifier.weight']\n",
      "You should probably TRAIN this model on a down-stream task to be able to use it for predictions and inference.\n",
      "Training Committee Member 2, Epoch 1: 100%|██████████| 4/4 [00:14<00:00,  3.54s/it]\n"
     ]
    },
    {
     "name": "stdout",
     "output_type": "stream",
     "text": [
      "Committee Member 2, Epoch 1 Loss: 0.6678\n"
     ]
    },
    {
     "name": "stderr",
     "output_type": "stream",
     "text": [
      "Training Committee Member 2, Epoch 2: 100%|██████████| 4/4 [00:11<00:00,  2.80s/it]\n"
     ]
    },
    {
     "name": "stdout",
     "output_type": "stream",
     "text": [
      "Committee Member 2, Epoch 2 Loss: 0.6286\n"
     ]
    },
    {
     "name": "stderr",
     "output_type": "stream",
     "text": [
      "Some weights of DistilBertForSequenceClassification were not initialized from the model checkpoint at distilbert-base-uncased and are newly initialized: ['classifier.bias', 'classifier.weight', 'pre_classifier.bias', 'pre_classifier.weight']\n",
      "You should probably TRAIN this model on a down-stream task to be able to use it for predictions and inference.\n",
      "Training Committee Member 3, Epoch 1: 100%|██████████| 4/4 [00:09<00:00,  2.45s/it]\n"
     ]
    },
    {
     "name": "stdout",
     "output_type": "stream",
     "text": [
      "Committee Member 3, Epoch 1 Loss: 0.7001\n"
     ]
    },
    {
     "name": "stderr",
     "output_type": "stream",
     "text": [
      "Training Committee Member 3, Epoch 2: 100%|██████████| 4/4 [00:08<00:00,  2.07s/it]\n"
     ]
    },
    {
     "name": "stdout",
     "output_type": "stream",
     "text": [
      "Committee Member 3, Epoch 2 Loss: 0.6573\n"
     ]
    },
    {
     "name": "stderr",
     "output_type": "stream",
     "text": [
      "Evaluating Committee on Validation Set: 100%|██████████| 28/28 [01:35<00:00,  3.42s/it]\n"
     ]
    },
    {
     "name": "stdout",
     "output_type": "stream",
     "text": [
      "Validation Accuracy (Committee Majority Vote): 50.92%\n"
     ]
    },
    {
     "name": "stderr",
     "output_type": "stream",
     "text": [
      "Computing Vote Entropy for Unlabeled Samples:   4%|▍         | 80/2104 [05:31<2:16:22,  4.04s/it]"
     ]
    }
   ],
   "source": [
    "for iteration in range(max_iterations):\n",
    "    print(f\"\\n=== Active Learning Iteration {iteration+1} ===\")\n",
    "    \n",
    "    # --- Committee Training ---\n",
    "    committee = []\n",
    "    for i in range(committee_size):\n",
    "    \n",
    "        model = create_model().to(device)\n",
    "        optimizer = AdamW(model.parameters(), lr=2e-5)\n",
    "        \n",
    "        bootstrap_indices = np.random.choice(labeled_indices, size=len(labeled_indices), replace=True)\n",
    "        bootstrap_subset = Subset(train_dataset, bootstrap_indices)\n",
    "        bootstrap_loader = DataLoader(bootstrap_subset, batch_size=16, shuffle=True, collate_fn=collate_fn)\n",
    "        \n",
    "        model.train()\n",
    "        epochs = 2\n",
    "        for epoch in range(epochs):\n",
    "            epoch_loss = 0\n",
    "            for batch in tqdm(bootstrap_loader, desc=f\"Training Committee Member {i+1}, Epoch {epoch+1}\"):\n",
    "                optimizer.zero_grad()\n",
    "                input_ids = batch[\"input_ids\"].to(device)\n",
    "                attention_mask = batch[\"attention_mask\"].to(device)\n",
    "                labels = batch[\"labels\"].to(device)\n",
    "                outputs = model(input_ids, attention_mask=attention_mask, labels=labels)\n",
    "                loss = outputs.loss\n",
    "                loss.backward()\n",
    "                optimizer.step()\n",
    "                epoch_loss += loss.item()\n",
    "            print(f\"Committee Member {i+1}, Epoch {epoch+1} Loss: {epoch_loss/len(bootstrap_loader):.4f}\")\n",
    "        \n",
    "        committee.append(model)\n",
    "\n",
    "    # --- Evaluation on the Validation Set using Committee Majority Vote ---\n",
    "    val_loader = DataLoader(val_dataset, batch_size=32, collate_fn=collate_fn)\n",
    "    all_votes = []\n",
    "    all_labels = []\n",
    "    with torch.no_grad():\n",
    "        for batch in tqdm(val_loader, desc=\"Evaluating Committee on Validation Set\"):\n",
    "            input_ids = batch[\"input_ids\"].to(device)\n",
    "            attention_mask = batch[\"attention_mask\"].to(device)\n",
    "            labels = batch[\"labels\"].to(device)\n",
    "            batch_votes = []  \n",
    "            \n",
    "            for model in committee:\n",
    "                model.eval()\n",
    "                outputs = model(input_ids, attention_mask=attention_mask)\n",
    "                logits = outputs.logits\n",
    "                preds = torch.argmax(logits, dim=-1)\n",
    "                batch_votes.append(preds.cpu().numpy())\n",
    "            \n",
    "            batch_votes = np.array(batch_votes).T  # shape: (batch_size, committee_size)\n",
    "            \n",
    "            for votes in batch_votes:\n",
    "                vote_counts = Counter(votes)\n",
    "                majority_vote = vote_counts.most_common(1)[0][0]\n",
    "                all_votes.append(majority_vote)\n",
    "            all_labels.extend(labels.cpu().numpy())\n",
    "    \n",
    "    accuracy = np.mean(np.array(all_votes) == np.array(all_labels))\n",
    "    print(f\"Validation Accuracy (Committee Majority Vote): {accuracy*100:.2f}%\")\n",
    "    labeled_sizes.append(len(labeled_indices))\n",
    "    val_accuracies.append(accuracy)\n",
    "\n",
    "    # --- Acquisition: Query by Committee using Vote Entropy ---\n",
    "    if len(unlabeled_indices) == 0:\n",
    "        break\n",
    "\n",
    "    unlabeled_subset = Subset(train_dataset, unlabeled_indices)\n",
    "    unlabeled_loader = DataLoader(unlabeled_subset, batch_size=32, collate_fn=collate_fn)\n",
    "    \n",
    "    vote_entropy_list = []\n",
    "    \n",
    "    with torch.no_grad():\n",
    "        for batch_idx, batch in enumerate(tqdm(unlabeled_loader, desc=\"Computing Vote Entropy for Unlabeled Samples\")):\n",
    "            input_ids = batch[\"input_ids\"].to(device)\n",
    "            attention_mask = batch[\"attention_mask\"].to(device)\n",
    "            \n",
    "            committee_preds = []\n",
    "            for model in committee:\n",
    "                model.eval()\n",
    "                outputs = model(input_ids, attention_mask=attention_mask)\n",
    "                logits = outputs.logits\n",
    "                preds = torch.argmax(logits, dim=-1)\n",
    "                committee_preds.append(preds.cpu().numpy())\n",
    "            \n",
    "            committee_preds = np.array(committee_preds)  # shape: (committee_size, batch_size)\n",
    "            \n",
    "            batch_size = committee_preds.shape[1]\n",
    "            for j in range(batch_size):\n",
    "                votes = committee_preds[:, j]  \n",
    "                vote_counts = Counter(votes)\n",
    "                \n",
    "                entropy = 0.0\n",
    "                for cls in range(num_labels):\n",
    "                    p = vote_counts.get(cls, 0) / committee_size\n",
    "                    if p > 0:\n",
    "                        entropy -= p * math.log(p)\n",
    "                \n",
    "                global_index = unlabeled_indices[batch_idx * 32 + j]\n",
    "                vote_entropy_list.append((global_index, entropy))\n",
    "    \n",
    "    vote_entropy_list.sort(key=lambda x: x[1], reverse=True)\n",
    "    \n",
    "    selected_samples = [idx for idx, ent in vote_entropy_list[:acquisition_size]]\n",
    "    \n",
    "    labeled_indices.extend(selected_samples)\n",
    "    unlabeled_indices = list(set(unlabeled_indices) - set(selected_samples))\n",
    "    \n",
    "    print(f\"Total labeled samples after acquisition: {len(labeled_indices)}\")\n"
   ]
  },
  {
   "cell_type": "code",
   "execution_count": null,
   "metadata": {},
   "outputs": [],
   "source": [
    "plt.figure(figsize=(8, 6))\n",
    "plt.plot(labeled_sizes, [acc * 100 for acc in val_accuracies], marker='o', linestyle='-')\n",
    "plt.xlabel(\"Number of Labeled Samples\")\n",
    "plt.ylabel(\"Validation Accuracy (%)\")\n",
    "plt.title(\"Active Learning Performance (Query by Committee)\")\n",
    "plt.grid(True)\n",
    "plt.show()"
   ]
  }
 ],
 "metadata": {
  "kernelspec": {
   "display_name": "Python 3",
   "language": "python",
   "name": "python3"
  },
  "language_info": {
   "codemirror_mode": {
    "name": "ipython",
    "version": 3
   },
   "file_extension": ".py",
   "mimetype": "text/x-python",
   "name": "python",
   "nbconvert_exporter": "python",
   "pygments_lexer": "ipython3",
   "version": "3.12.2"
  }
 },
 "nbformat": 4,
 "nbformat_minor": 2
}
